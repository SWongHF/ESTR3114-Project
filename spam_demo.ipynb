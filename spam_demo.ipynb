{
 "cells": [
  {
   "cell_type": "code",
   "execution_count": null,
   "metadata": {},
   "outputs": [],
   "source": [
    "import torch\n",
    "import scipy.io\n",
    "import sklearn\n",
    "import math\n",
    "import numpy as np\n",
    "# # FTLOptimizer \n",
    "# class FTLOptimizer(torch.optim.Optimizer): \n",
    "      \n",
    "#     # Init Method: \n",
    "#     def __init__(self, params, lr=1e-3): \n",
    "#         super(FTLOptimizer, self).__init__(params, defaults={'lr': lr}) \n",
    "#         self.state = dict() \n",
    "#         for group in self.param_groups: \n",
    "#             for p in group['params']: \n",
    "#                 self.state[p] = dict(mom=torch.zeros_like(p.data)) \n",
    "      \n",
    "#     # Step Method \n",
    "#     def step(self): \n",
    "#         for group in self.param_groups: \n",
    "#             for p in group['params']: \n",
    "#                 if p not in self.state: \n",
    "#                     self.state[p] = dict(mom=torch.zeros_like(p.data)) \n",
    "#                 mom = self.state[p]['mom'] \n",
    "#                 mom = self.momentum * mom - group['lr'] * p.grad.data \n",
    "#                 p.data += mom"
   ]
  },
  {
   "cell_type": "code",
   "execution_count": null,
   "metadata": {},
   "outputs": [
    {
     "name": "stdout",
     "output_type": "stream",
     "text": [
      "4601\n",
      "0.7200608563355793\n"
     ]
    },
    {
     "name": "stderr",
     "output_type": "stream",
     "text": [
      "c:\\Users\\lenovo\\anaconda3\\envs\\dl\\lib\\site-packages\\sklearn\\svm\\_base.py:1237: ConvergenceWarning: Liblinear failed to converge, increase the number of iterations.\n",
      "  warnings.warn(\n"
     ]
    }
   ],
   "source": [
    "mat = scipy.io.loadmat(\"spam_data.mat\")\n",
    "spam_inst = mat[\"spam_inst\"]\n",
    "spam_label = mat[\"spam_label\"][:, 0]\n",
    "\n",
    "\n",
    "\n",
    "T = len(spam_label)\n",
    "print(T)\n",
    "B = 2\n",
    "L = 1\n",
    "\n",
    "eta = 2 / (math.sqrt(2 * T))\n",
    "known_spam_inst = []\n",
    "known_spam_label = []\n",
    "class_n=0\n",
    "class_p=0\n",
    "prediction=[]\n",
    "# FTRL\n",
    "for i in range(len(spam_label)):\n",
    "    if (class_n>0)+(class_p>0)!=2:\n",
    "        if spam_label[i]==-1:\n",
    "            class_n+=1\n",
    "        else:\n",
    "            class_p+=1\n",
    "        if class_n>class_p:\n",
    "            prediction.append(-1)\n",
    "        else:\n",
    "            prediction.append(1)\n",
    "    else:\n",
    "        model = sklearn.svm.LinearSVC(loss=\"hinge\", C=eta, dual='auto')\n",
    "        model.fit(np.array(known_spam_inst), np.array(known_spam_label))\n",
    "        p=model.predict(spam_inst[i].reshape(1, -1))\n",
    "        prediction.append(p)\n",
    "    \n",
    "    known_spam_inst.append(spam_inst[i])\n",
    "    known_spam_label.append(spam_label[i])\n",
    "\n",
    "model = sklearn.svm.LinearSVC(loss=\"hinge\", C=eta*100, dual='auto')\n",
    "model.fit(np.array(spam_inst), np.array(spam_label))\n",
    "prediction2=model.predict(spam_inst)\n",
    "print(sklearn.metrics.accuracy_score(spam_label,prediction2))"
   ]
  },
  {
   "cell_type": "code",
   "execution_count": null,
   "metadata": {},
   "outputs": [],
   "source": []
  }
 ],
 "metadata": {
  "kernelspec": {
   "display_name": "dl",
   "language": "python",
   "name": "python3"
  },
  "language_info": {
   "codemirror_mode": {
    "name": "ipython",
    "version": 3
   },
   "file_extension": ".py",
   "mimetype": "text/x-python",
   "name": "python",
   "nbconvert_exporter": "python",
   "pygments_lexer": "ipython3",
   "version": "3.9.19"
  }
 },
 "nbformat": 4,
 "nbformat_minor": 2
}
